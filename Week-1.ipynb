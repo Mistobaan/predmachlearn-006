{
 "metadata": {
  "name": "",
  "signature": "sha256:328bfeebea3e1bdc38a874c7fd861acf93e255c3865f062f7d26365aa235b71d"
 },
 "nbformat": 3,
 "nbformat_minor": 0,
 "worksheets": [
  {
   "cells": [
    {
     "cell_type": "markdown",
     "metadata": {},
     "source": [
      "# In and Out of sample errors\n",
      "\n",
      "__In sample error__: the error rate you get on the same data set you used to build your predictor\n",
      "\n",
      "__Out of sample error__: the error grate you get on a new data set. sometimes called generalization\n",
      "\n",
      "Key ideas:\n",
      "1. out of sample error is what you care about\n",
      "1. In sample error < out of sample error\n",
      "1. The reaon is overfitting is because the algorithm is matching closely to the data you have\n",
      "\n"
     ]
    },
    {
     "cell_type": "code",
     "collapsed": false,
     "input": [
      "import pandas.rpy.common as com\n",
      "\n",
      "%load_ext rmagic"
     ],
     "language": "python",
     "metadata": {},
     "outputs": [
      {
       "ename": "ImportError",
       "evalue": "No module named rpy2.robjects.packages",
       "output_type": "pyerr",
       "traceback": [
        "\u001b[0;31m---------------------------------------------------------------------------\u001b[0m\n\u001b[0;31mImportError\u001b[0m                               Traceback (most recent call last)",
        "\u001b[0;32m<ipython-input-2-9fd91622a78a>\u001b[0m in \u001b[0;36m<module>\u001b[0;34m()\u001b[0m\n\u001b[0;32m----> 1\u001b[0;31m \u001b[0;32mimport\u001b[0m \u001b[0mpandas\u001b[0m\u001b[0;34m.\u001b[0m\u001b[0mrpy\u001b[0m\u001b[0;34m.\u001b[0m\u001b[0mcommon\u001b[0m \u001b[0;32mas\u001b[0m \u001b[0mcom\u001b[0m\u001b[0;34m\u001b[0m\u001b[0m\n\u001b[0m\u001b[1;32m      2\u001b[0m \u001b[0;34m\u001b[0m\u001b[0m\n\u001b[1;32m      3\u001b[0m \u001b[0mget_ipython\u001b[0m\u001b[0;34m(\u001b[0m\u001b[0;34m)\u001b[0m\u001b[0;34m.\u001b[0m\u001b[0mmagic\u001b[0m\u001b[0;34m(\u001b[0m\u001b[0;34mu'load_ext rmagic'\u001b[0m\u001b[0;34m)\u001b[0m\u001b[0;34m\u001b[0m\u001b[0m\n",
        "\u001b[0;32m/Users/fabriziomilo/anaconda/lib/python2.7/site-packages/pandas/rpy/common.py\u001b[0m in \u001b[0;36m<module>\u001b[0;34m()\u001b[0m\n\u001b[1;32m     12\u001b[0m \u001b[0;32mimport\u001b[0m \u001b[0mpandas\u001b[0m\u001b[0;34m.\u001b[0m\u001b[0mutil\u001b[0m\u001b[0;34m.\u001b[0m\u001b[0mtesting\u001b[0m \u001b[0;32mas\u001b[0m \u001b[0m_test\u001b[0m\u001b[0;34m\u001b[0m\u001b[0m\n\u001b[1;32m     13\u001b[0m \u001b[0;34m\u001b[0m\u001b[0m\n\u001b[0;32m---> 14\u001b[0;31m \u001b[0;32mfrom\u001b[0m \u001b[0mrpy2\u001b[0m\u001b[0;34m.\u001b[0m\u001b[0mrobjects\u001b[0m\u001b[0;34m.\u001b[0m\u001b[0mpackages\u001b[0m \u001b[0;32mimport\u001b[0m \u001b[0mimportr\u001b[0m\u001b[0;34m\u001b[0m\u001b[0m\n\u001b[0m\u001b[1;32m     15\u001b[0m \u001b[0;32mfrom\u001b[0m \u001b[0mrpy2\u001b[0m\u001b[0;34m.\u001b[0m\u001b[0mrobjects\u001b[0m \u001b[0;32mimport\u001b[0m \u001b[0mr\u001b[0m\u001b[0;34m\u001b[0m\u001b[0m\n\u001b[1;32m     16\u001b[0m \u001b[0;32mimport\u001b[0m \u001b[0mrpy2\u001b[0m\u001b[0;34m.\u001b[0m\u001b[0mrobjects\u001b[0m \u001b[0;32mas\u001b[0m \u001b[0mrobj\u001b[0m\u001b[0;34m\u001b[0m\u001b[0m\n",
        "\u001b[0;31mImportError\u001b[0m: No module named rpy2.robjects.packages"
       ]
      }
     ],
     "prompt_number": 2
    },
    {
     "cell_type": "markdown",
     "metadata": {},
     "source": [
      "Data have two parts:\n",
      "- Signal\n",
      "- Noise\n",
      "\n",
      "The goal of a predictor is to find signal:\n",
      "- You can always design a perfect in-sample predictor\n",
      "- you capture both signal + noise when you do that\n",
      "- Predictor won't perfomr as well on new samples\n",
      "\n",
      "http://en.wikipedia.org/wiki/Overfitting"
     ]
    },
    {
     "cell_type": "markdown",
     "metadata": {},
     "source": [
      "# Prediction sudy design\n",
      "\n",
      "1. define your erro rate\n",
      "2. Split data into\n",
      "    - Training\n",
      "    - Testing\n",
      "    - Validation\n",
      "3. On the trainin gset pick features\n",
      "    - Use Cross Validation\n",
      "4. On the training set pick prediction fuction\n",
      "    - Use Cross Validation\n",
      "5. If no validation\n",
      "    - Apply 1.x\n",
      "6. If validation\n",
      "    - Apply to test and refine \n",
      "    - Apply 1x to validation\n",
      "\n",
      "__Know the benchmarks__\n",
      "\n",
      "If you have a large sample size\n",
      "\n",
      "- 60% training\n",
      "- 20% test\n",
      "- 20% validation\n",
      "\n",
      "\n",
      "If you have a medium sample size\n",
      "\n",
      "- 60% training\n",
      "- 40% test\n",
      "\n",
      "If you have a small sample size\n",
      "\n",
      "- do cross validation\n",
      "- Report caveat of small sample size\n",
      "\n",
      "## Some Principles to remember\n",
      "- Set the test/validation set aside and don't look at it\n",
      "- In general randomly sample trianing  and test\n",
      "- Your data sets must reflect structure of the problem\n",
      "    - if predictions evolve with time split trian/test in time chunks called backtesting in finance\n",
      "- All subsets should refelct as much diversity as possible\n",
      "    - Random assignment does this\n",
      "    - You can also try to balance by feautures but this is tricky\n",
      "    \n",
      "\n"
     ]
    },
    {
     "cell_type": "markdown",
     "metadata": {},
     "source": [
      "# Types of Error\n",
      "\n",
      "True positive = correctly identified\n",
      "False positive = incorrectly identified\n",
      "True negative = correctly rejected\n",
      "False negative = incorrectly rejected\n",
      "\n",
      "## Key quantities\n",
      "\n",
      "Sensitivity = $\\frac{TP}{(TP+TN)}$\n",
      "\n",
      "Specitivity = $\\frac{TP}{(TP+TN)}$\n",
      "\n",
      "Positive Predictive Value = $\\frac{TP}{(TP+TN)}$\n",
      "\n",
      "Negative Predictive Value $\\frac{TP}{(TP+TN)}$\n",
      "\n",
      "Accuracy = $\\frac{TP}{(TP+TN)}$\n",
      "\n",
      "http://en.wikipedia.com/Sensitiviy_and_specifity\n",
      "\n",
      "\n",
      "## Common measures for prediction algorithms\n",
      "\n",
      "- Mean square root value\n",
      "- Median absolute deviation \n",
      "- Sensitivy (recall)\n",
      "- Specificity (response) \n",
      "- Accuracy \n",
      "- Concordance (kappa)"
     ]
    },
    {
     "cell_type": "markdown",
     "metadata": {},
     "source": [
      "# ROC Curves\n",
      "\n",
      "In binary classification a curve that plots sensitiviy x specificity\n",
      "\n",
      "- Receiving operating characteristic\n",
      "\n",
      "AUC 0.5 is random\n",
      "AUC 1.0 perfect\n",
      "AUC above 0.8 is considered GOOD\n"
     ]
    },
    {
     "cell_type": "markdown",
     "metadata": {},
     "source": [
      "# Cross Validations\n",
      "\n",
      "Techniques on how to do it\n",
      "\n",
      "- Random Sampling\n",
      "- K fold: split the data in chunks\n",
      "- Leave one out. Predict all\n",
      "\n",
      "## Considerations\n",
      "- For time series data data must be used in chunks\n",
      "- For k-fold cross validation\n",
      "    - Larger K = less bias, more variance\n",
      "    - Smaller K = more bias, less variance\n",
      "\n",
      "- Random sampling must be done *without replacement*\n",
      "- Random sampling with replacement is the bootstrap method\n",
      "    - it under estimates the error\n",
      "    - can be corrected with the 0.632 bootsrap method\n",
      "\n",
      "if you cross validate to pick predictors estimates you must estimate errors on independent data\n",
      "\n",
      "\n"
     ]
    },
    {
     "cell_type": "markdown",
     "metadata": {},
     "source": [
      "# What data should you use ?\n",
      "\n",
      "http://fivethirtyeight.com\n",
      "\n",
      "To predict X use data very close to X \n",
      "\n",
      "http://www.google.com/flutrends \n",
      "\n",
      "\n",
      "Unrelated data is the most common mistake"
     ]
    },
    {
     "cell_type": "code",
     "collapsed": false,
     "input": [],
     "language": "python",
     "metadata": {},
     "outputs": []
    }
   ],
   "metadata": {}
  }
 ]
}